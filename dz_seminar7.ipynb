{
 "cells": [
  {
   "cell_type": "code",
   "execution_count": 1,
   "id": "b087744a",
   "metadata": {},
   "outputs": [],
   "source": [
    "import math\n",
    "import numpy as np\n",
    "import scipy.stats as stats"
   ]
  },
  {
   "cell_type": "markdown",
   "id": "d8722648",
   "metadata": {},
   "source": [
    "#### 1 )  Даны две  независимые выборки. Не соблюдается условие нормальности x1  380,420, 290 y1 140,360,200,900 Сделайте вывод по результатам, полученным с помощью функции"
   ]
  },
  {
   "cell_type": "code",
   "execution_count": 2,
   "id": "816bd0fd",
   "metadata": {},
   "outputs": [
    {
     "name": "stdout",
     "output_type": "stream",
     "text": [
      "MannwhitneyuResult(statistic=8.0, pvalue=0.6285714285714286)\n"
     ]
    }
   ],
   "source": [
    "x1 = [380, 420, 290]\n",
    "y1 = [140, 360, 200, 900]\n",
    "a=0.05\n",
    "result = stats.mannwhitneyu(x1, y1)\n",
    "print(result)"
   ]
  },
  {
   "cell_type": "markdown",
   "id": "8c302e86",
   "metadata": {},
   "source": [
    "Pvalue=0,6286 > a=0.05, нулевая гипотеза не отвергается на уровне значимости a=0.05."
   ]
  },
  {
   "cell_type": "markdown",
   "id": "54278024",
   "metadata": {},
   "source": [
    "#### 2 ) Исследовалось влияние препарата на уровень давления пациентов. Сначала измерялось давление до приема препарата, потом через 10 минут и через 30 минут. Есть ли статистически значимые различия? 1е измерение до приема препарата: 150, 160, 165, 145, 155. 2е измерение через 10 минут: 140, 155, 150,  130, 135. 3е измерение через 30 минут: 130, 130, 120, 130, 125"
   ]
  },
  {
   "cell_type": "code",
   "execution_count": 3,
   "id": "26602008",
   "metadata": {},
   "outputs": [
    {
     "name": "stdout",
     "output_type": "stream",
     "text": [
      "FriedmanchisquareResult(statistic=9.578947368421062, pvalue=0.00831683351100441)\n"
     ]
    }
   ],
   "source": [
    "before = [150, 160, 165, 145, 155]\n",
    "after10 = [140, 155, 150, 130, 135]\n",
    "after30 = [130, 130, 120, 130, 125]\n",
    "a = 0.05\n",
    "result = stats.friedmanchisquare(before, after10, after30)\n",
    "print(result)"
   ]
  },
  {
   "cell_type": "markdown",
   "id": "5b4089a6",
   "metadata": {},
   "source": [
    "Pvalue=0.0083 < a=0.05, статистически значимые различия обнаружены на уровне значимости a=0.05."
   ]
  },
  {
   "cell_type": "markdown",
   "id": "2bad7a57",
   "metadata": {},
   "source": [
    "#### 3 ) Сравните 1 и 2 е измерения, предполагая, что 3го измерения через 30 минут не было."
   ]
  },
  {
   "cell_type": "code",
   "execution_count": 4,
   "id": "af5138b9",
   "metadata": {},
   "outputs": [
    {
     "name": "stdout",
     "output_type": "stream",
     "text": [
      "WilcoxonResult(statistic=0.0, pvalue=0.0625)\n"
     ]
    }
   ],
   "source": [
    "before = [150, 160, 165, 145, 155]\n",
    "after10 = [140, 155, 150, 130, 135]\n",
    "a = 0.05\n",
    "result = stats.wilcoxon(before, after10)\n",
    "print(result)"
   ]
  },
  {
   "cell_type": "markdown",
   "id": "d0ea9f32",
   "metadata": {},
   "source": [
    "Pvalue=0.0625 > a=0.05, статистически значимых различий не обнаружено на уровне значимости a=0.05."
   ]
  },
  {
   "cell_type": "markdown",
   "id": "92a42ce4",
   "metadata": {},
   "source": [
    "#### 4) Даны 3 группы  учеников плавания. Сделайте вывод по различиям. В 1 группе время на дистанцию 50 м составляют: 56, 60, 62, 55, 71, 67, 59, 58, 64, 67. Вторая группа : 57, 58, 69, 48, 72, 70, 68, 71, 50, 53. Третья группа: 57, 67, 49, 48, 47, 55, 66, 51, 54"
   ]
  },
  {
   "cell_type": "code",
   "execution_count": 5,
   "id": "007cfb18",
   "metadata": {},
   "outputs": [
    {
     "name": "stdout",
     "output_type": "stream",
     "text": [
      "KruskalResult(statistic=5.465564058257224, pvalue=0.0650380998590494)\n"
     ]
    }
   ],
   "source": [
    "group1 = [56, 60, 62, 55, 71, 67, 59, 58, 64, 67]\n",
    "group2 = [57, 58, 69, 48, 72, 70, 68, 71, 50, 53]\n",
    "group3 = [57, 67, 49, 48, 47, 55, 66, 51, 54]\n",
    "a = 0.05\n",
    "result = stats.kruskal(group1, group2, group3)\n",
    "print(result)"
   ]
  },
  {
   "cell_type": "markdown",
   "id": "97837ff7",
   "metadata": {},
   "source": [
    "Pvalue=0.0650 > a=0.05, статистически значимых различий не обнаружено на уровне значимости a=0.05."
   ]
  },
  {
   "cell_type": "markdown",
   "id": "e554cddb",
   "metadata": {},
   "source": [
    "#### 5) Заявляется, что партия изготавливается со средним арифметическим 2,5 см. Проверить данную гипотезу, если известно, что размеры изделий подчинены нормальному закону распределения. Объем выборки 10, уровень статистической значимости 5% 2.51, 2.35, 2.74, 2.56, 2.40, 2.36, 2.65, 2.7, 2.67, 2.34"
   ]
  },
  {
   "cell_type": "code",
   "execution_count": 6,
   "id": "377cddec",
   "metadata": {},
   "outputs": [
    {
     "name": "stdout",
     "output_type": "stream",
     "text": [
      "Средняя по выборке = 2.5279999999999996\n",
      "Среднее квадратичное отклонение = 0.1572542173961923\n",
      "Наблюдаемое значение t-критерия = 0.5630613661802959\n",
      "Табличное значение t-критерия = 2.2621571627409915\n"
     ]
    }
   ],
   "source": [
    "m = 2.5\n",
    "n = 10\n",
    "a = 0.05\n",
    "array = [2.51, 2.35, 2.74, 2.56, 2.40, 2.36, 2.65, 2.7, 2.67, 2.34]\n",
    "mean = np.mean(array)\n",
    "print(f'Средняя по выборке = {mean}')\n",
    "sko=np.std(array, ddof=1)\n",
    "print(f'Среднее квадратичное отклонение = {sko}')\n",
    "t1 = (mean-m)/(sko/math.sqrt(n))\n",
    "print(f'Наблюдаемое значение t-критерия = {t1}')\n",
    "t2 = stats.t.ppf(1 - (a / 2), n - 1)\n",
    "print(f'Табличное значение t-критерия = {t2}')"
   ]
  }
 ],
 "metadata": {
  "kernelspec": {
   "display_name": "Python 3 (ipykernel)",
   "language": "python",
   "name": "python3"
  },
  "language_info": {
   "codemirror_mode": {
    "name": "ipython",
    "version": 3
   },
   "file_extension": ".py",
   "mimetype": "text/x-python",
   "name": "python",
   "nbconvert_exporter": "python",
   "pygments_lexer": "ipython3",
   "version": "3.9.13"
  }
 },
 "nbformat": 4,
 "nbformat_minor": 5
}
