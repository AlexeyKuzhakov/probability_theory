{
 "cells": [
  {
   "cell_type": "code",
   "execution_count": 40,
   "id": "c8892b79",
   "metadata": {},
   "outputs": [],
   "source": [
    "from math import factorial"
   ]
  },
  {
   "cell_type": "markdown",
   "id": "0764e65b",
   "metadata": {},
   "source": [
    "#### 1. Вероятность того, что стрелок попадет в мишень, выстрелив один раз, равна 0.8. Стрелок выстрелил 100 раз. Найдите вероятность того, что стрелок попадет в цель ровно 85 раз."
   ]
  },
  {
   "cell_type": "code",
   "execution_count": 41,
   "id": "2964b87c",
   "metadata": {},
   "outputs": [
    {
     "name": "stdout",
     "output_type": "stream",
     "text": [
      "Вероятность того, что стрелок попадет в мишень ровно 85 раз = 0.0481\n"
     ]
    }
   ],
   "source": [
    "P100 = (factorial(100) / (factorial(85) * factorial(100 - 85))) * 0.8 ** 85 * 0.2 ** (100 - 85)\n",
    "print(f'Вероятность того, что стрелок попадет в мишень ровно 85 раз = {P100 :.4f}')"
   ]
  },
  {
   "cell_type": "markdown",
   "id": "8cdc4f02",
   "metadata": {},
   "source": [
    "#### 2. Вероятность того, что лампочка перегорит в течение первого дня эксплуатации, равна 0.0004. В жилом комплексе после ремонта в один день включили 5000 новых лампочек. Какова вероятность, что ни одна из них не перегорит в первый день? Какова вероятность, что перегорят ровно две?"
   ]
  },
  {
   "cell_type": "code",
   "execution_count": 42,
   "id": "8edd5006",
   "metadata": {},
   "outputs": [
    {
     "name": "stdout",
     "output_type": "stream",
     "text": [
      "Вероятность того, что ни одна из них не перегорит в первый день = 0.865\n"
     ]
    }
   ],
   "source": [
    "P = 1 - (1 - 0.0004) ** 5000\n",
    "\n",
    "print(f'Вероятность того, что ни одна из них не перегорит в первый день = {P :.3f}')"
   ]
  },
  {
   "cell_type": "markdown",
   "id": "08fd557a",
   "metadata": {},
   "source": [
    "#### 3. Монету подбросили 144 раза. Какова вероятность, что орел выпадет ровно 70 раз?"
   ]
  },
  {
   "cell_type": "code",
   "execution_count": 43,
   "id": "33fc3e2c",
   "metadata": {},
   "outputs": [
    {
     "name": "stdout",
     "output_type": "stream",
     "text": [
      "Вероятность того, что орел выпадет ровно 70 раз = 0.0628\n"
     ]
    }
   ],
   "source": [
    "P144 = (factorial(144) / (factorial(70) * factorial(144 - 70))) * 0.5 ** 70 * 0.5 ** (144 - 70)\n",
    "\n",
    "print(f'Вероятность того, что орел выпадет ровно 70 раз = {P144 :.4f}')"
   ]
  },
  {
   "cell_type": "markdown",
   "id": "94360902",
   "metadata": {},
   "source": [
    "#### 4. В первом ящике находится 10 мячей, из которых 7 - белые. Во втором ящике - 11 мячей, из которых 9 белых. Из каждого ящика вытаскивают случайным образом по два мяча. Какова вероятность того, что все мячи белые? "
   ]
  },
  {
   "cell_type": "code",
   "execution_count": 44,
   "id": "1c8e0701",
   "metadata": {},
   "outputs": [
    {
     "name": "stdout",
     "output_type": "stream",
     "text": [
      "Вероятность того, что все мячи белые = 0.305\n"
     ]
    }
   ],
   "source": [
    "PA1 = (factorial(7) / (factorial(2)*factorial(7 - 2))) / (factorial(10) / (factorial(2)*factorial(10 - 2)))\n",
    "PA2 = (factorial(9) / (factorial(2)*factorial(9 - 2))) / (factorial(11) / (factorial(2)*factorial(11 - 2)))\n",
    "print(f'Вероятность того, что все мячи белые = {PA1 * PA2 :.3f}')"
   ]
  },
  {
   "cell_type": "markdown",
   "id": "8e3d9c32",
   "metadata": {},
   "source": [
    "###### Какова вероятность того, что ровно два мяча белые?"
   ]
  },
  {
   "cell_type": "code",
   "execution_count": 45,
   "id": "0cf4cf60",
   "metadata": {},
   "outputs": [
    {
     "name": "stdout",
     "output_type": "stream",
     "text": [
      "Вероятность того, что ровно два мяча белые = 0.205\n"
     ]
    }
   ],
   "source": [
    "PA11A12 =  (factorial(7) / (factorial(2)*factorial(7 - 2))) / (factorial(10) / (factorial(2) * \n",
    "factorial(10 - 2))) * (factorial(2) / (factorial(2)*factorial(2 - 2))) / (factorial(11) / (factorial(2) * factorial(11 - 2)))\n",
    "\n",
    "PA21A22 = (factorial(3) / (factorial(2)*factorial(3 - 2))) / (factorial(10) / (factorial(2) * \n",
    "factorial(10 - 2))) * (factorial(9) / (factorial(2)*factorial(9 - 2))) / (factorial(11) / (factorial(2)*factorial(11 - 2)))\n",
    "\n",
    "PA31 = (factorial(7) / (factorial(1)*factorial(7 - 1)) * factorial(3)) / (factorial(1) * \n",
    "factorial(3 - 1)) / (factorial(10) / (factorial(2)*factorial(10 - 2))) \n",
    "PA32 = (factorial(9) / (factorial(1)*factorial(9 - 1)) * factorial(2)) / (factorial(1) * \n",
    "factorial(2 - 1)) / (factorial(11) / (factorial(2)*factorial(11 - 2)))\n",
    "PA = PA11A12 + PA21A22 + PA31 * PA32\n",
    "print(f'Вероятность того, что ровно два мяча белые = {PA :.3f}')"
   ]
  },
  {
   "cell_type": "markdown",
   "id": "fe7fb427",
   "metadata": {},
   "source": [
    "###### Какова вероятность того, что хотя бы один мяч белый?"
   ]
  },
  {
   "cell_type": "code",
   "execution_count": 46,
   "id": "e5b2eb83",
   "metadata": {},
   "outputs": [
    {
     "name": "stdout",
     "output_type": "stream",
     "text": [
      "Вероятность того, что хотя бы один мяч белый = 0.999\n"
     ]
    }
   ],
   "source": [
    "PA = 1 - (factorial(3) / (factorial(2) *factorial(3 - 2))) / (factorial(10) / (factorial(2) * \n",
    "factorial(10 - 2))) * (factorial(2) / (factorial(2) * factorial(2 - 2))) / (factorial(11) / (factorial(2) * factorial(11 - 2)))\n",
    "print(f'Вероятность того, что хотя бы один мяч белый = {PA :.3f}')"
   ]
  }
 ],
 "metadata": {
  "kernelspec": {
   "display_name": "Python 3 (ipykernel)",
   "language": "python",
   "name": "python3"
  },
  "language_info": {
   "codemirror_mode": {
    "name": "ipython",
    "version": 3
   },
   "file_extension": ".py",
   "mimetype": "text/x-python",
   "name": "python",
   "nbconvert_exporter": "python",
   "pygments_lexer": "ipython3",
   "version": "3.9.13"
  }
 },
 "nbformat": 4,
 "nbformat_minor": 5
}
